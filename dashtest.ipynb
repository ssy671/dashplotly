{
 "cells": [
  {
   "cell_type": "code",
   "execution_count": 1,
   "metadata": {},
   "outputs": [
    {
     "data": {
      "text/html": [
       "\n",
       "        <iframe\n",
       "            width=\"100%\"\n",
       "            height=\"650\"\n",
       "            src=\"http://127.0.0.1:8050/\"\n",
       "            frameborder=\"0\"\n",
       "            allowfullscreen\n",
       "            \n",
       "        ></iframe>\n",
       "        "
      ],
      "text/plain": [
       "<IPython.lib.display.IFrame at 0x7f8c0cdca0>"
      ]
     },
     "metadata": {},
     "output_type": "display_data"
    }
   ],
   "source": [
    "from dash import Dash, html\n",
    "\n",
    "app = Dash(__name__)\n",
    "\n",
    "app.layout = html.Div([\n",
    "    html.Div(children='hello world')\n",
    "])\n",
    "\n",
    "if __name__ == '__main__':\n",
    "    app.run(debug=False)"
   ]
  },
  {
   "cell_type": "code",
   "execution_count": null,
   "metadata": {},
   "outputs": [],
   "source": [
    "import pandas as pd\n",
    "import numpy as np\n",
    "import plotly.graph_objs as go\n",
    "from dash import Dash, dcc, html\n",
    "\n",
    "# 시뮬레이션을 위한 가상의 데이터 생성\n",
    "np.random.seed(42)  # 결과의 일관성을 위한 난수 시드 설정\n",
    "data = {\n",
    "    \"Date\": pd.date_range(start=\"2023-01-01\", periods=100),\n",
    "    \"Value\": np.random.rand(100).cumsum()  # 누적 합을 사용하여 가상의 시계열 데이터 생성\n",
    "}\n",
    "df = pd.DataFrame(data)\n",
    "\n",
    "# 예측값 계산 및 실제 값과 비교하여 색상 결정\n",
    "colors = ['blue'] * (len(df) - 2) + ['blue', 'blue']  # 마지막 두 포인트는 비교 대상이 아니므로 기본 색상을 설정\n",
    "\n",
    "for i in range(len(df) - 2):\n",
    "    # 포인트 i와 i+1 사이의 기울기 계산\n",
    "    slope = (df['Value'].iloc[i+1] - df['Value'].iloc[i]) / (df.index[i+1] - df.index[i])\n",
    "    # 포인트 i+2에 대한 예측값 계산\n",
    "    predicted_value = df['Value'].iloc[i+1] + slope\n",
    "    # 실제 값이 예측값보다 크면 색상을 빨간색으로 설정\n",
    "    if df['Value'].iloc[i+2] > predicted_value:\n",
    "        colors[i+2] = 'red'\n",
    "\n",
    "# Dash 애플리케이션 초기화\n",
    "app = Dash(__name__)\n",
    "\n",
    "# 앱 레이아웃 설정\n",
    "app.layout = html.Div(children=[\n",
    "    dcc.Graph(\n",
    "        id='time-series-plot',\n",
    "        figure={\n",
    "            'data': [\n",
    "                go.Scatter(\n",
    "                    x=df['Date'],\n",
    "                    y=df['Value'],\n",
    "                    mode='markers+lines',\n",
    "                    marker=dict(color=colors),\n",
    "                    name='Values'\n",
    "                )\n",
    "            ],\n",
    "            'layout': go.Layout(\n",
    "                title='Time Series Analysis with Linear Prediction Highlighting',\n",
    "                xaxis={'title': 'Date'},\n",
    "                yaxis={'title': 'Value'}\n",
    "            )\n",
    "        }\n",
    "    )\n",
    "])\n",
    "\n",
    "if __name__ == '__main__':\n",
    "    app.run_server(debug=True)\n"
   ]
  },
  {
   "cell_type": "code",
   "execution_count": null,
   "metadata": {},
   "outputs": [],
   "source": []
  }
 ],
 "metadata": {
  "kernelspec": {
   "display_name": "vimvenv",
   "language": "python",
   "name": "python3"
  },
  "language_info": {
   "codemirror_mode": {
    "name": "ipython",
    "version": 3
   },
   "file_extension": ".py",
   "mimetype": "text/x-python",
   "name": "python",
   "nbconvert_exporter": "python",
   "pygments_lexer": "ipython3",
   "version": "3.9.2"
  }
 },
 "nbformat": 4,
 "nbformat_minor": 2
}
